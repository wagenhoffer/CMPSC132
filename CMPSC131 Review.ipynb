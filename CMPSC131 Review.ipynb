{
 "cells": [
  {
   "cell_type": "markdown",
   "metadata": {},
   "source": [
    "This is a slap-dash attempt at reviewing all of CMPSC131 in a single notebook. Much will be skipped, but that is ok. We can add it later! Let me know what is missing and it will be ammended. \n",
    "\n",
    "The list of topics covered in CMPSC131 include:\n",
    "1. Variables and Datatypes\n",
    "2. Lists\n",
    "3. Conditional Statements\n",
    "4. Dictionaries\n",
    "5. User Input and Loops\n",
    "6. Functions\n",
    "7. Classes \n",
    "8. Files and Exceptions"
   ]
  },
  {
   "cell_type": "markdown",
   "metadata": {},
   "source": [
    "# 1. Variables and Datatypes"
   ]
  },
  {
   "cell_type": "code",
   "execution_count": 2,
   "metadata": {},
   "outputs": [
    {
     "name": "stdout",
     "output_type": "stream",
     "text": [
      "What a review notebook!\n"
     ]
    }
   ],
   "source": [
    "msg = \"What a review notebook!\"\n",
    "print(msg)"
   ]
  },
  {
   "cell_type": "markdown",
   "metadata": {},
   "source": [
    "Python is a duck typed language.This means that the Python interpretter finds the suitable datatype for the variable you define based on its use. \n",
    "\n",
    "Some rules about variables are:\n",
    "* names can contain only letters, numbers, and underscores. They can not start with a number\n",
    "* no spaces in variable names\n",
    "* do not use reserved words (i.e. for, in, not, and ...)\n",
    "* use short and descriptive names\n",
    "\n",
    "What is the datatype of the variable 'msg'?\n",
    "\n",
    "HINT: type(msg)"
   ]
  },
  {
   "cell_type": "code",
   "execution_count": 3,
   "metadata": {},
   "outputs": [
    {
     "data": {
      "text/plain": [
       "str"
      ]
     },
     "execution_count": 3,
     "metadata": {},
     "output_type": "execute_result"
    }
   ],
   "source": [
    "type(msg)"
   ]
  },
  {
   "cell_type": "markdown",
   "metadata": {},
   "source": [
    "The string sata type has several built in utilities that can prove useful. "
   ]
  },
  {
   "cell_type": "code",
   "execution_count": 4,
   "metadata": {},
   "outputs": [
    {
     "name": "stdout",
     "output_type": "stream",
     "text": [
      "What A Review Notebook!\n",
      "WHAT A REVIEW NOTEBOOK!\n",
      "what a review notebook!\n",
      "['What', 'a', 'review', 'notebook!']\n",
      "                                  What a review notebook!\n"
     ]
    }
   ],
   "source": [
    "print(msg.title())\n",
    "print(msg.upper())\n",
    "print(msg.lower())\n",
    "print(msg.split())\n",
    "print(msg.rjust(57))"
   ]
  },
  {
   "cell_type": "markdown",
   "metadata": {},
   "source": [
    "Python has several data types for handling numerical values.\n",
    "* $\\mathbb{C}$ Complex\n",
    "* $\\mathbb{R}$ Real $\\rightarrow$ called floating point \n",
    "* $\\mathbb{Z}$ Integers"
   ]
  },
  {
   "cell_type": "code",
   "execution_count": 14,
   "metadata": {},
   "outputs": [],
   "source": [
    "a = 4  #integer\n",
    "b = 3. #real"
   ]
  },
  {
   "cell_type": "code",
   "execution_count": 15,
   "metadata": {},
   "outputs": [
    {
     "name": "stdout",
     "output_type": "stream",
     "text": [
      "7.0\n",
      "1.0\n",
      "1.3333333333333333\n",
      "1.0\n",
      "1.0\n"
     ]
    }
   ],
   "source": [
    "print(a + b)  #you can add\n",
    "print(a - b)  #or subtract\n",
    "print(a / b)  #divide\n",
    "print(a // b) #integer division\n",
    "print(a % b)  #or get the modulus (remainder)"
   ]
  },
  {
   "cell_type": "markdown",
   "metadata": {},
   "source": [
    "### All of above output was type cast to floating point. Python determined that the operation should be all floating point, because b was a float. You can type cast variables back to integers."
   ]
  },
  {
   "cell_type": "code",
   "execution_count": 17,
   "metadata": {},
   "outputs": [],
   "source": [
    "a = -2"
   ]
  },
  {
   "cell_type": "code",
   "execution_count": 18,
   "metadata": {},
   "outputs": [
    {
     "data": {
      "text/plain": [
       "0"
      ]
     },
     "execution_count": 18,
     "metadata": {},
     "output_type": "execute_result"
    }
   ],
   "source": [
    "int(a/b)"
   ]
  },
  {
   "cell_type": "markdown",
   "metadata": {},
   "source": [
    "# 2. LISTS\n",
    "\n",
    "A list is a collection of items in a particular order. You can access specific members of a list with an index. \n",
    "\n",
    "Initialization of a list is done with \\[\\] square brackets."
   ]
  },
  {
   "cell_type": "code",
   "execution_count": 21,
   "metadata": {},
   "outputs": [],
   "source": [
    "coffeeTypes = ['espresso', 'drip', 'pour over']"
   ]
  },
  {
   "cell_type": "code",
   "execution_count": 23,
   "metadata": {},
   "outputs": [
    {
     "data": {
      "text/plain": [
       "'pour over'"
      ]
     },
     "execution_count": 23,
     "metadata": {},
     "output_type": "execute_result"
    }
   ],
   "source": [
    "coffeeTypes[-1] #Start counting at zero"
   ]
  },
  {
   "cell_type": "markdown",
   "metadata": {},
   "source": [
    "Items can be added to or remove from a list also. "
   ]
  },
  {
   "cell_type": "code",
   "execution_count": 26,
   "metadata": {},
   "outputs": [
    {
     "name": "stdout",
     "output_type": "stream",
     "text": [
      "espresso          index = 0\n",
      "drip              index = 1\n",
      "cold brew         index = 2\n",
      "cold brew         index = 3\n",
      "cold brew         index = 4\n",
      "pour over         index = 5\n",
      "aeropress         index = 6\n",
      "aeropress         index = 7\n",
      "aeropress         index = 8\n",
      "espresso drip cold brew cold brew cold brew pour over aeropress aeropress aeropress\n"
     ]
    }
   ],
   "source": [
    "coffeeTypes.append('aeropress')\n",
    "coffeeTypes.insert(2,'cold brew')\n",
    "[print(coffee.ljust(15) +str(' index = %1d' %index).rjust(12)) for index,coffee in enumerate(coffeeTypes)]\n",
    "print(*coffeeTypes)"
   ]
  },
  {
   "cell_type": "markdown",
   "metadata": {},
   "source": [
    "Items can be removed from a list in a few ways. \n",
    "* Delete by index\n",
    "* remove method - built in"
   ]
  },
  {
   "cell_type": "code",
   "execution_count": 27,
   "metadata": {},
   "outputs": [],
   "source": [
    "del coffeeTypes[1] #let us remove drip\n",
    "coffeeTypes.remove('aeropress')"
   ]
  },
  {
   "cell_type": "code",
   "execution_count": 30,
   "metadata": {},
   "outputs": [
    {
     "name": "stdout",
     "output_type": "stream",
     "text": [
      "espresso cold brew cold brew cold brew pour over aeropress\n"
     ]
    }
   ],
   "source": [
    "print(*coffeeTypes) #or dump contents of the list this way"
   ]
  },
  {
   "cell_type": "code",
   "execution_count": 31,
   "metadata": {},
   "outputs": [
    {
     "name": "stdout",
     "output_type": "stream",
     "text": [
      "aeropress\n"
     ]
    }
   ],
   "source": [
    "popCoffee = coffeeTypes.pop()\n",
    "print(popCoffee)"
   ]
  },
  {
   "cell_type": "markdown",
   "metadata": {},
   "source": [
    "The pop command pops the last item from the list according to index, not insertion order. This is not a LIFO stack.\n",
    "\n",
    "You can also pop on an index. _.pop(1)\n",
    "\n",
    "The list can also be sorted. Permanently with the built in sort method or temporarily with sorted method."
   ]
  },
  {
   "cell_type": "code",
   "execution_count": 33,
   "metadata": {},
   "outputs": [
    {
     "name": "stdout",
     "output_type": "stream",
     "text": [
      "['tube', 'no show', 'crew', 'weird toe socks', 'ankle']\n",
      "['ankle', 'crew', 'no show', 'tube', 'weird toe socks']\n",
      "['tube', 'no show', 'crew', 'weird toe socks', 'ankle']\n",
      "['ankle', 'crew', 'no show', 'tube', 'weird toe socks']\n",
      "['weird toe socks', 'tube', 'no show', 'crew', 'ankle']\n",
      "['ankle', 'crew', 'no show', 'tube', 'weird toe socks']\n"
     ]
    }
   ],
   "source": [
    "socks = ['tube', 'no show', 'crew', 'weird toe socks', 'ankle', ]\n",
    "print(socks)\n",
    "print(sorted(socks))\n",
    "print(socks)\n",
    "socks.sort()\n",
    "print(socks)\n",
    "socks.reverse()\n",
    "print(socks)\n",
    "print(socks[-1::-1])"
   ]
  },
  {
   "cell_type": "code",
   "execution_count": 34,
   "metadata": {},
   "outputs": [
    {
     "name": "stdout",
     "output_type": "stream",
     "text": [
      "5\n"
     ]
    },
    {
     "ename": "IndexError",
     "evalue": "list index out of range",
     "output_type": "error",
     "traceback": [
      "\u001b[1;31m---------------------------------------------------------------------------\u001b[0m",
      "\u001b[1;31mIndexError\u001b[0m                                Traceback (most recent call last)",
      "\u001b[1;32m<ipython-input-34-c1b1176b73ac>\u001b[0m in \u001b[0;36m<module>\u001b[1;34m\u001b[0m\n\u001b[0;32m      1\u001b[0m \u001b[0mn\u001b[0m \u001b[1;33m=\u001b[0m \u001b[0mlen\u001b[0m\u001b[1;33m(\u001b[0m\u001b[0msocks\u001b[0m\u001b[1;33m)\u001b[0m\u001b[1;33m\u001b[0m\u001b[1;33m\u001b[0m\u001b[0m\n\u001b[0;32m      2\u001b[0m \u001b[0mprint\u001b[0m\u001b[1;33m(\u001b[0m\u001b[0mn\u001b[0m\u001b[1;33m)\u001b[0m\u001b[1;33m\u001b[0m\u001b[1;33m\u001b[0m\u001b[0m\n\u001b[1;32m----> 3\u001b[1;33m \u001b[0msocks\u001b[0m\u001b[1;33m[\u001b[0m\u001b[0mn\u001b[0m\u001b[1;33m]\u001b[0m \u001b[1;31m#why is this?\u001b[0m\u001b[1;33m\u001b[0m\u001b[1;33m\u001b[0m\u001b[0m\n\u001b[0m",
      "\u001b[1;31mIndexError\u001b[0m: list index out of range"
     ]
    }
   ],
   "source": [
    "n = len(socks)\n",
    "print(n)\n",
    "socks[n] #why is this?"
   ]
  },
  {
   "cell_type": "code",
   "execution_count": 101,
   "metadata": {},
   "outputs": [
    {
     "name": "stdout",
     "output_type": "stream",
     "text": [
      "ankle\n",
      "['ankle', 'crew', 'no show', 'tube', 'weird toe socks']\n",
      "['ankle', 'no show', 'weird toe socks']\n",
      "['no show', 'crew', 'ankle']\n"
     ]
    }
   ],
   "source": [
    "print(socks[-1])      #access last member\n",
    "print(socks[-1::-1])  #start at end and then move to front\n",
    "print(socks[-1::-2])  #start at end and move to front by 2\n",
    "print(socks[2:])      #start at 3rd item"
   ]
  },
  {
   "cell_type": "markdown",
   "metadata": {},
   "source": [
    "The range function has a ton of functionality for making lists of values between values. \n",
    "\n",
    "range(start, stop, stride)\n",
    "\n",
    "Because of zero-indexing the range will actually stop at stop -1"
   ]
  },
  {
   "cell_type": "code",
   "execution_count": 96,
   "metadata": {},
   "outputs": [
    {
     "name": "stdout",
     "output_type": "stream",
     "text": [
      "0\n",
      "1\n",
      "2\n",
      "3\n",
      "--------\n",
      "0\n",
      "1\n",
      "2\n",
      "3\n",
      "[2, 4, 6, 8, 10]\n"
     ]
    }
   ],
   "source": [
    "for x in range(0,4,1):\n",
    "    print(x)\n",
    "print('--------')\n",
    "#Equivalent Statement\n",
    "for x in range(4): #default start is zero and stride is 1\n",
    "    print(x)\n",
    "#Type cast a range to a list\n",
    "evens = list(range(2,11,2))\n",
    "print(evens)"
   ]
  },
  {
   "cell_type": "code",
   "execution_count": 100,
   "metadata": {},
   "outputs": [
    {
     "name": "stdout",
     "output_type": "stream",
     "text": [
      "[0.0, 1.0, 1.4142135623730951, 1.7320508075688772, 2.0, 2.23606797749979, 2.449489742783178]\n",
      "[0.0, 1.0, 1.4142135623730951, 1.7320508075688772, 2.0, 2.23606797749979, 2.449489742783178]\n"
     ]
    }
   ],
   "source": [
    "squareRoots = []\n",
    "for x in range(7):\n",
    "    squareRoots.append(x**0.5)\n",
    "sRs = [x**0.5 for x in range(7)] #bad variable name, not descriptive\n",
    "print(squareRoots)\n",
    "print(sRs)"
   ]
  },
  {
   "cell_type": "markdown",
   "metadata": {},
   "source": [
    "# Conditional Statements\n",
    "\n",
    "The standards are all here:\n",
    "* if\n",
    "* if else\n",
    "* if else if (elif) else\n",
    "\n",
    "Below is a simple primality test for the some number n"
   ]
  },
  {
   "cell_type": "code",
   "execution_count": 106,
   "metadata": {},
   "outputs": [
    {
     "name": "stdout",
     "output_type": "stream",
     "text": [
      "True\n"
     ]
    }
   ],
   "source": [
    "n = 11\n",
    "isPrime =  True\n",
    "if n <= 3:\n",
    "    isPrime = n > 1\n",
    "elif n % 2 == 0 or n % 3 == 0:\n",
    "    isPrime = False\n",
    "i = 5\n",
    "while i ** 2 <= n:\n",
    "    if n % i == 0 or n % (i + 2) == 0:\n",
    "        isPrime = False\n",
    "    i += 6\n",
    "print(isPrime)"
   ]
  },
  {
   "cell_type": "markdown",
   "metadata": {},
   "source": [
    "The above is ok, but we can easily turn it into a function to test many values. \n",
    "\n",
    "Let us make a dictionary of values and list if they are a prime or not."
   ]
  },
  {
   "cell_type": "code",
   "execution_count": 107,
   "metadata": {},
   "outputs": [],
   "source": [
    "def is_prime(n: int) -> str:\n",
    "    \"\"\"Primality test using 6k+-1 optimization.\"\"\"\n",
    "    if n == 1:\n",
    "        return 'not prime'\n",
    "    elif n==2 or n==3:\n",
    "        return 'Prime!'\n",
    "    elif n % 2 == 0 or n % 3 == 0:\n",
    "        return 'not prime'\n",
    "    i = 5\n",
    "    while i ** 2 <= n:\n",
    "        if n % i == 0 or n % (i + 2) == 0:\n",
    "            return 'not prime'\n",
    "        i += 6\n",
    "    return 'Prime!'"
   ]
  },
  {
   "cell_type": "code",
   "execution_count": 113,
   "metadata": {},
   "outputs": [],
   "source": [
    "primeDict = {}\n",
    "for x in range(1,1000000):\n",
    "    primeDict[is_prime(x)]=x"
   ]
  },
  {
   "cell_type": "code",
   "execution_count": 114,
   "metadata": {},
   "outputs": [
    {
     "data": {
      "text/plain": [
       "{'not prime': 999999, 'Prime!': 999983}"
      ]
     },
     "execution_count": 114,
     "metadata": {},
     "output_type": "execute_result"
    }
   ],
   "source": [
    "primeDict #our dictionary isn't well defined is it, only saves the last value"
   ]
  },
  {
   "cell_type": "markdown",
   "metadata": {},
   "source": [
    "Wow! What a terrible example for a dictionary. For each key we have a single value. A different data structure would be better here. I can think of a whole bunch, but let use think of a better set of data to represent as a dictionary. "
   ]
  },
  {
   "cell_type": "code",
   "execution_count": null,
   "metadata": {},
   "outputs": [],
   "source": [
    "sandwiches = {}   #define an empty dictionary with braces\n",
    "# define a dictionary with key:value format and delimit entries with commas\n",
    "sandwiches = {'hoagie':'long roll',\n",
    "             'hamburger':'Martin\\'s Potato Roll',\n",
    "             'hotdog':'not a sandwich'}\n",
    "# Failure to define a dictionary\n",
    "webstersDict = {(1, 2.0): 'tuples can be keys',\n",
    "                1: 'ints can be keys',\n",
    "                'run': 'strings can be keys', \n",
    "                ['sock', 1, 2.0]: 'lists can NOT be keys'}"
   ]
  },
  {
   "cell_type": "code",
   "execution_count": 35,
   "metadata": {},
   "outputs": [
    {
     "name": "stdout",
     "output_type": "stream",
     "text": [
      "9\n"
     ]
    }
   ],
   "source": [
    "a = 3 \n",
    "print(a*3)"
   ]
  },
  {
   "cell_type": "markdown",
   "metadata": {},
   "source": [
    "# nate \n",
    "\n",
    "thats my name \n",
    "\n",
    "$H_0^1(kr) $\n",
    "\n",
    "![alt]('Euler.png')"
   ]
  },
  {
   "cell_type": "raw",
   "metadata": {},
   "source": []
  }
 ],
 "metadata": {
  "kernelspec": {
   "display_name": "Python 3",
   "language": "python",
   "name": "python3"
  },
  "language_info": {
   "codemirror_mode": {
    "name": "ipython",
    "version": 3
   },
   "file_extension": ".py",
   "mimetype": "text/x-python",
   "name": "python",
   "nbconvert_exporter": "python",
   "pygments_lexer": "ipython3",
   "version": "3.7.6"
  }
 },
 "nbformat": 4,
 "nbformat_minor": 4
}
