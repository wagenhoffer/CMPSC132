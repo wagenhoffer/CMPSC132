{
  "nbformat": 4,
  "nbformat_minor": 0,
  "metadata": {
    "colab": {
      "name": "Binary Division with Stacks",
      "provenance": [],
      "collapsed_sections": [],
      "authorship_tag": "ABX9TyPLASZ2OPQu6O/PI2J4fZLU",
      "include_colab_link": true
    },
    "kernelspec": {
      "name": "python3",
      "display_name": "Python 3"
    },
    "language_info": {
      "name": "python"
    }
  },
  "cells": [
    {
      "cell_type": "markdown",
      "metadata": {
        "id": "view-in-github",
        "colab_type": "text"
      },
      "source": [
        "<a href=\"https://colab.research.google.com/github/wagenhoffer/CMPSC132/blob/main/Binary_Division_with_Stacks.ipynb\" target=\"_parent\"><img src=\"https://colab.research.google.com/assets/colab-badge.svg\" alt=\"Open In Colab\"/></a>"
      ]
    },
    {
      "cell_type": "code",
      "execution_count": 23,
      "metadata": {
        "colab": {
          "base_uri": "https://localhost:8080/"
        },
        "id": "7jVY4JkT6Lkj",
        "outputId": "fc09e9a0-de82-4779-f4c4-93c17af4b686"
      },
      "outputs": [
        {
          "output_type": "stream",
          "name": "stdout",
          "text": [
            "100000 loops, best of 5: 5.88 µs per loop\n",
            "100000 loops, best of 5: 17.2 µs per loop\n",
            "100000 loops, best of 5: 12.4 µs per loop\n",
            "100000 loops, best of 5: 6.27 µs per loop\n",
            "100000 loops, best of 5: 6.87 µs per loop\n",
            "The slowest run took 15.43 times longer than the fastest. This could mean that an intermediate result is being cached.\n",
            "10000000 loops, best of 5: 131 ns per loop\n"
          ]
        }
      ],
      "source": [
        "def intToBinary(num):\n",
        "    n = num\n",
        "    binList = []\n",
        "    while n != 0:\n",
        "        binList.append(n % 2)\n",
        "        n = n // 2\n",
        "    return binList\n",
        "\n",
        "def binary_divison(num):\n",
        "    stack = []\n",
        "    result = ''\n",
        "    while num != 0:\n",
        "        stack.append(num % 2)\n",
        "        num = num // 2\n",
        "    for i in range(len(stack)):\n",
        "        result = result + str(stack.pop())\n",
        "    return result\n",
        "\n",
        "# n=int (input (\"Enter number: \"))\n",
        "def sumira(n):\n",
        "  b= []\n",
        "  while(n>0):\n",
        "      d = n%2\n",
        "      b.append(d)\n",
        "      n = n//2\n",
        "  b.reverse()\n",
        "  return b\n",
        "  # print(\"Binary number is: \")\n",
        "  # for i in b:\n",
        "  #     print(i,end = \"\")\n",
        "\n",
        "def justin(x):# x = int(input())\n",
        "  stack = []\n",
        "  while x > 0:\n",
        "    if x == 1:\n",
        "      stack.append(1)\n",
        "      break\n",
        "    else:\n",
        "      stack.append(x%2)\n",
        "      x //= 2\n",
        "  return(stack[::-1])\n",
        "b=lambda n:b(n//2)+str(n%2)if n else\"\"\n",
        "\n",
        "from functools import lru_cache\n",
        "@lru_cache(maxsize=None)\n",
        "def nate(n):\n",
        "  s=[]\n",
        "  while n: \n",
        "    n, r = n//2,n%2\n",
        "    s.append(r)\n",
        "  return list(reversed(s))\n",
        "\n",
        "n = 4_001_123_331\n",
        "%timeit intToBinary(n) #Syed Ahmed\n",
        "%timeit binary_divison(n) #Gerry  Gallagher\n",
        "%timeit b(n) #Andrew Maiorini\n",
        "%timeit sumira(n) #Nasar\n",
        "%timeit justin(n) #Ngo\n",
        "%timeit nate(n)\n",
        "\n"
      ]
    },
    {
      "cell_type": "code",
      "source": [
        ""
      ],
      "metadata": {
        "id": "_E76XEwg81Cu"
      },
      "execution_count": null,
      "outputs": []
    }
  ]
}